{
 "cells": [
  {
   "cell_type": "code",
   "execution_count": 1,
   "metadata": {
    "collapsed": true
   },
   "outputs": [],
   "source": [
    "import pandas as pd\n",
    "import matplotlib\n",
    "import matplotlib.pyplot as plt\n",
    "import numpy as np"
   ]
  },
  {
   "cell_type": "code",
   "execution_count": 2,
   "metadata": {
    "collapsed": true
   },
   "outputs": [],
   "source": [
    "# Read the Data\n",
    "x = pd.read_csv('train.csv', sep=',')"
   ]
  },
  {
   "cell_type": "code",
   "execution_count": 3,
   "metadata": {
    "collapsed": true
   },
   "outputs": [],
   "source": [
    "# Get just the Array Values\n",
    "x = np.array(x[0:], dtype=np.float)"
   ]
  },
  {
   "cell_type": "code",
   "execution_count": 4,
   "metadata": {
    "collapsed": true
   },
   "outputs": [],
   "source": [
    "# Get x, y. Change the dimensions of both to list of lists\n",
    "data_x = x[:, 0]\n",
    "data_x = data_x[:, np.newaxis]\n",
    "data_y = x[:, 1]\n",
    "data_y = data_y[:, np.newaxis]"
   ]
  },
  {
   "cell_type": "code",
   "execution_count": 5,
   "metadata": {
    "collapsed": true
   },
   "outputs": [],
   "source": [
    "# Add the bias 1 in column 0\n",
    "data_x = np.hstack((np.ones_like(data_x), data_x))"
   ]
  },
  {
   "cell_type": "code",
   "execution_count": 6,
   "metadata": {
    "collapsed": true
   },
   "outputs": [],
   "source": [
    "# Randomising data order\n",
    "order = np.random.permutation(len(data_x))"
   ]
  },
  {
   "cell_type": "code",
   "execution_count": 7,
   "metadata": {
    "collapsed": true
   },
   "outputs": [],
   "source": [
    "# Splitting train and test data\n",
    "portion = int(.25 * len(data_y))"
   ]
  },
  {
   "cell_type": "code",
   "execution_count": 8,
   "metadata": {
    "collapsed": true
   },
   "outputs": [],
   "source": [
    "test_x = data_x[order[:portion]]\n",
    "test_y = data_y[order[:portion]]\n",
    "train_x = data_x[order[portion:]]\n",
    "train_y = data_y[order[portion:]]"
   ]
  },
  {
   "cell_type": "code",
   "execution_count": 9,
   "metadata": {
    "collapsed": true
   },
   "outputs": [],
   "source": [
    "# Function to get the gradient\n",
    "def get_gradient(theta, x, y):\n",
    "    # Dot product of X and theta to get estimate of Y\n",
    "    y_estimate = x.dot(theta).flatten()\n",
    "    error = (y.flatten() - y_estimate)\n",
    "    mse = (1.0/len(x))*np.sum(np.power(error, 2))\n",
    "    gradient = -(1.0/len(x)) * error.dot(x)\n",
    "    return gradient, mse"
   ]
  },
  {
   "cell_type": "code",
   "execution_count": 10,
   "metadata": {},
   "outputs": [
    {
     "name": "stdout",
     "output_type": "stream",
     "text": [
      "Iteration: 100 - Error: 0.0836054912812\n",
      "Iteration: 200 - Error: 0.0835976492518\n",
      "Converged.\n",
      "theta =  [ 0.49596422  0.00554177]\n",
      "Cost =  0.0835566241885\n"
     ]
    }
   ],
   "source": [
    "theta = np.random.randn(2)\n",
    "alpha = 0.5\n",
    "tolerance = 1e-5\n",
    "\n",
    "# Perform Gradient Descent\n",
    "iterations = 1\n",
    "while True:\n",
    "    gradient, error = get_gradient(theta, train_x, train_y)\n",
    "    new_theta = theta - alpha * gradient\n",
    "    \n",
    "    # To check if the theta values are converging\n",
    "    if np.sum(abs(new_theta - theta)) < tolerance:\n",
    "        print('Converged.')\n",
    "        break\n",
    "    \n",
    "    if iterations % 100 == 0:\n",
    "        print('Iteration: {} - Error: {}'.format(str(iterations), str(error)))\n",
    "    \n",
    "    iterations += 1\n",
    "    theta = new_theta\n",
    "\n",
    "print ('theta = ', theta)\n",
    "print ('Cost = ', get_gradient(theta, test_x, test_y)[1])"
   ]
  },
  {
   "cell_type": "code",
   "execution_count": null,
   "metadata": {
    "collapsed": true
   },
   "outputs": [],
   "source": []
  }
 ],
 "metadata": {
  "kernelspec": {
   "display_name": "ml3_Python_3",
   "language": "python",
   "name": "ml3_python_3"
  },
  "language_info": {
   "codemirror_mode": {
    "name": "ipython",
    "version": 3
   },
   "file_extension": ".py",
   "mimetype": "text/x-python",
   "name": "python",
   "nbconvert_exporter": "python",
   "pygments_lexer": "ipython3",
   "version": "3.6.3"
  }
 },
 "nbformat": 4,
 "nbformat_minor": 2
}
